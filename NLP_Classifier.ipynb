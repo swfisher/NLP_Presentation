{
 "cells": [
  {
   "cell_type": "markdown",
   "metadata": {},
   "source": [
    "### Outline:\n",
    "\n",
    "0. DataFrames: The Idea of Features and Observations.\n",
    "1. Numerical Features: Bag of Words and The Idea of Matrices.\n",
    "2. Recalling the Picture of Classification.\n",
    "3. The Logic of Naive Bayes.\n",
    "4. Balancing the Training Data.\n",
    "5. Prediction and Model Evaluation.\n",
    "6. Extras!\n",
    "\n",
    "##### Summary:\n",
    "\n",
    "In this notebook we will attempt to classify a collection of complaints against banking services by issue. The client is the Consumer Financial Protection Bureau. These complaints are sent in by email. If we can successfully distinguish between the type of complaint using only it's text, we can automatically label future complaints as they arrive in the Bureau's inbox. This will save time for the consumer. Alternatively, it could be used as backup system to verify the correctness of the consumer's label. This would make all subsequent statistics (such as sentiment analysis) that compare these categories, more accurate.\n",
    "\n",
    "The data utilized in the problem comes from a public dataset of consumer complaints continuously released by the [Consumer Financial Protection Bureau](https://www.consumerfinance.gov/data-research/consumer-complaints/)\n",
    "\n",
    "##### A note and a thank you: \n",
    "\n",
    "This notebook borrows from images, text, and code used in Harvard's CS109 course, in particular lab 10 from 2015. That being said, much of my own work is added and explanations are greatly simplified for a beginning audience. The analysis is carried out on a data set of consumer complaints regarding banking services from the Consumer Financial Protection Bureau.\n",
    "\n",
    "If you enjoy getting your feet wet in this walkthrough, you should absolutely look into the open source lectures and labs on the [CS109 website](http://cs109.github.io/2015/) or the [official online course](https://www.extension.harvard.edu/academics/courses/introduction-data-science/15178) through Harvard Extension.\n",
    "\n"
   ]
  },
  {
   "cell_type": "code",
   "execution_count": 2,
   "metadata": {
    "collapsed": true
   },
   "outputs": [],
   "source": [
    "# Here we import many useful libraries.\n",
    "\n",
    "import numpy as np\n",
    "import pandas as pd\n",
    "import scipy.stats as stats\n",
    "import matplotlib.pyplot as plt\n",
    "import seaborn as sns\n",
    "plt.style.use('ggplot')\n",
    "\n",
    "import re\n",
    "import string\n",
    "\n",
    "from sklearn.feature_extraction.text import CountVectorizer\n",
    "from sklearn.feature_extraction.text import TfidfTransformer\n",
    "from sklearn.naive_bayes import MultinomialNB\n",
    "from sklearn import metrics\n",
    "from sklearn.model_selection import train_test_split\n",
    "\n",
    "def dateLookup(s):\n",
    "    \"\"\"\n",
    "    Memoization solution for faster date_time parsing\n",
    "    source: https://stackoverflow.com/questions/29882573/pandas-slow-date-conversion\n",
    "    \"\"\"\n",
    "    dates = {date:pd.to_datetime(date) for date in s.unique()}\n",
    "    return s.map(dates)"
   ]
  },
  {
   "cell_type": "code",
   "execution_count": 3,
   "metadata": {
    "collapsed": true
   },
   "outputs": [],
   "source": [
    "# Here we import our pre-cleaned data.\n",
    "\n",
    "dataTypes = {\n",
    "    'product':'category',\n",
    "    'sub_product':'category',\n",
    "    'issue':'category',\n",
    "    'sub_issue':'category',\n",
    "    'text':str,\n",
    "    'clean_text':str,\n",
    "    'pub_reply':str,\n",
    "    'company':'category',\n",
    "    'state':'category',\n",
    "    'zip_code':str,\n",
    "    'tags':str,\n",
    "    'cust_reply':'category',\n",
    "    'timely_reply':'int64',\n",
    "    'disputed':'int64',\n",
    "    'ID':'int64'\n",
    "}\n",
    "\n",
    "data = pd.read_csv('Cleaned_Consumer_Complaints.csv',index_col=\"Index\",dtype=dataTypes)\n",
    "\n",
    "#Convert datetimes    \n",
    "for col in ['date_received', 'date_sent']:\n",
    "    data[col] = dateLookup(data[col])\n",
    "    \n",
    "full_issue_names = {\n",
    "    'Account':'Account opening, closing, or management',\n",
    "    'Transactions':'Deposits and withdrawals',\n",
    "    'Payments':'Making/receiving payments, sending money',\n",
    "    'Low Funds':'Problems caused by my funds being low',\n",
    "    'Card':'Using a debit or ATM card'\n",
    "}\n",
    "\n",
    "issues = sorted(list(data['issue'].unique()))"
   ]
  },
  {
   "cell_type": "markdown",
   "metadata": {},
   "source": [
    "### Features and Observations"
   ]
  },
  {
   "cell_type": "markdown",
   "metadata": {},
   "source": [
    "The idea of features and observations is central to statistics and machine learning. We can think of each observation as an entity (500 different pieces of fruit) and each feature as a quality of that entity. Each piece of fruit might have a roundness, weight, and color. The \"label\" we want to classify our fruit by, such as {apples,oranges} also counts as a feature."
   ]
  },
  {
   "cell_type": "code",
   "execution_count": 4,
   "metadata": {},
   "outputs": [
    {
     "data": {
      "text/html": [
       "<div>\n",
       "<style>\n",
       "    .dataframe thead tr:only-child th {\n",
       "        text-align: right;\n",
       "    }\n",
       "\n",
       "    .dataframe thead th {\n",
       "        text-align: left;\n",
       "    }\n",
       "\n",
       "    .dataframe tbody tr th {\n",
       "        vertical-align: top;\n",
       "    }\n",
       "</style>\n",
       "<table border=\"1\" class=\"dataframe\">\n",
       "  <thead>\n",
       "    <tr style=\"text-align: right;\">\n",
       "      <th></th>\n",
       "      <th>date_received</th>\n",
       "      <th>product</th>\n",
       "      <th>sub_product</th>\n",
       "      <th>issue</th>\n",
       "      <th>sub_issue</th>\n",
       "      <th>text</th>\n",
       "      <th>pub_reply</th>\n",
       "      <th>company</th>\n",
       "      <th>state</th>\n",
       "      <th>zip_code</th>\n",
       "      <th>tags</th>\n",
       "      <th>date_sent</th>\n",
       "      <th>cust_reply</th>\n",
       "      <th>timely_reply</th>\n",
       "      <th>disputed</th>\n",
       "      <th>ID</th>\n",
       "      <th>clean_text</th>\n",
       "    </tr>\n",
       "    <tr>\n",
       "      <th>Index</th>\n",
       "      <th></th>\n",
       "      <th></th>\n",
       "      <th></th>\n",
       "      <th></th>\n",
       "      <th></th>\n",
       "      <th></th>\n",
       "      <th></th>\n",
       "      <th></th>\n",
       "      <th></th>\n",
       "      <th></th>\n",
       "      <th></th>\n",
       "      <th></th>\n",
       "      <th></th>\n",
       "      <th></th>\n",
       "      <th></th>\n",
       "      <th></th>\n",
       "      <th></th>\n",
       "    </tr>\n",
       "  </thead>\n",
       "  <tbody>\n",
       "    <tr>\n",
       "      <th>0</th>\n",
       "      <td>2017-04-12</td>\n",
       "      <td>Bank account or service</td>\n",
       "      <td>Checking account</td>\n",
       "      <td>Low Funds</td>\n",
       "      <td>NaN</td>\n",
       "      <td>I have documentation that shows that US Bank w...</td>\n",
       "      <td>Company has responded to the consumer and the ...</td>\n",
       "      <td>U.S. BANCORP</td>\n",
       "      <td>CA</td>\n",
       "      <td>928XX</td>\n",
       "      <td>NaN</td>\n",
       "      <td>2017-04-12</td>\n",
       "      <td>Closed with explanation</td>\n",
       "      <td>1</td>\n",
       "      <td>0</td>\n",
       "      <td>2431565</td>\n",
       "      <td>I have documentation that shows that US Bank w...</td>\n",
       "    </tr>\n",
       "    <tr>\n",
       "      <th>1</th>\n",
       "      <td>2017-01-18</td>\n",
       "      <td>Bank account or service</td>\n",
       "      <td>Other bank product/service</td>\n",
       "      <td>Account</td>\n",
       "      <td>NaN</td>\n",
       "      <td>After 2 years of service with no issues Coinba...</td>\n",
       "      <td>Company believes it acted appropriately as aut...</td>\n",
       "      <td>Coinbase, Inc.</td>\n",
       "      <td>TX</td>\n",
       "      <td>770XX</td>\n",
       "      <td>NaN</td>\n",
       "      <td>2017-01-19</td>\n",
       "      <td>Closed with explanation</td>\n",
       "      <td>1</td>\n",
       "      <td>1</td>\n",
       "      <td>2291872</td>\n",
       "      <td>After 2 years of service with no issues Coinba...</td>\n",
       "    </tr>\n",
       "    <tr>\n",
       "      <th>2</th>\n",
       "      <td>2016-06-01</td>\n",
       "      <td>Bank account or service</td>\n",
       "      <td>Other bank product/service</td>\n",
       "      <td>Payments</td>\n",
       "      <td>NaN</td>\n",
       "      <td>This complaint is regarding Wells Fargo. XX/XX...</td>\n",
       "      <td>Company has responded to the consumer and the ...</td>\n",
       "      <td>WELLS FARGO &amp; COMPANY</td>\n",
       "      <td>NV</td>\n",
       "      <td>891XX</td>\n",
       "      <td>NaN</td>\n",
       "      <td>2016-06-01</td>\n",
       "      <td>Closed with monetary relief</td>\n",
       "      <td>1</td>\n",
       "      <td>0</td>\n",
       "      <td>1949163</td>\n",
       "      <td>This complaint is regarding Wells Fargo.  I re...</td>\n",
       "    </tr>\n",
       "    <tr>\n",
       "      <th>3</th>\n",
       "      <td>2016-07-05</td>\n",
       "      <td>Bank account or service</td>\n",
       "      <td>Checking account</td>\n",
       "      <td>Low Funds</td>\n",
       "      <td>NaN</td>\n",
       "      <td>I bank with Bank of America using the paybill ...</td>\n",
       "      <td>Company has responded to the consumer and the ...</td>\n",
       "      <td>BANK OF AMERICA, NATIONAL ASSOCIATION</td>\n",
       "      <td>NC</td>\n",
       "      <td>283XX</td>\n",
       "      <td>NaN</td>\n",
       "      <td>2016-07-05</td>\n",
       "      <td>Closed with monetary relief</td>\n",
       "      <td>1</td>\n",
       "      <td>0</td>\n",
       "      <td>1997875</td>\n",
       "      <td>I bank with Bank of America using the paybill ...</td>\n",
       "    </tr>\n",
       "    <tr>\n",
       "      <th>4</th>\n",
       "      <td>2015-11-21</td>\n",
       "      <td>Bank account or service</td>\n",
       "      <td>Checking account</td>\n",
       "      <td>Low Funds</td>\n",
       "      <td>NaN</td>\n",
       "      <td>This is my fifth complaint against Key Bank be...</td>\n",
       "      <td>NaN</td>\n",
       "      <td>KEYCORP</td>\n",
       "      <td>NY</td>\n",
       "      <td>138XX</td>\n",
       "      <td>NaN</td>\n",
       "      <td>2015-11-21</td>\n",
       "      <td>Closed with explanation</td>\n",
       "      <td>1</td>\n",
       "      <td>1</td>\n",
       "      <td>1666956</td>\n",
       "      <td>This is my fifth complaint against Key Bank be...</td>\n",
       "    </tr>\n",
       "  </tbody>\n",
       "</table>\n",
       "</div>"
      ],
      "text/plain": [
       "      date_received                  product                 sub_product  \\\n",
       "Index                                                                      \n",
       "0        2017-04-12  Bank account or service            Checking account   \n",
       "1        2017-01-18  Bank account or service  Other bank product/service   \n",
       "2        2016-06-01  Bank account or service  Other bank product/service   \n",
       "3        2016-07-05  Bank account or service            Checking account   \n",
       "4        2015-11-21  Bank account or service            Checking account   \n",
       "\n",
       "           issue sub_issue                                               text  \\\n",
       "Index                                                                           \n",
       "0      Low Funds       NaN  I have documentation that shows that US Bank w...   \n",
       "1        Account       NaN  After 2 years of service with no issues Coinba...   \n",
       "2       Payments       NaN  This complaint is regarding Wells Fargo. XX/XX...   \n",
       "3      Low Funds       NaN  I bank with Bank of America using the paybill ...   \n",
       "4      Low Funds       NaN  This is my fifth complaint against Key Bank be...   \n",
       "\n",
       "                                               pub_reply  \\\n",
       "Index                                                      \n",
       "0      Company has responded to the consumer and the ...   \n",
       "1      Company believes it acted appropriately as aut...   \n",
       "2      Company has responded to the consumer and the ...   \n",
       "3      Company has responded to the consumer and the ...   \n",
       "4                                                    NaN   \n",
       "\n",
       "                                     company state zip_code tags  date_sent  \\\n",
       "Index                                                                         \n",
       "0                               U.S. BANCORP    CA    928XX  NaN 2017-04-12   \n",
       "1                             Coinbase, Inc.    TX    770XX  NaN 2017-01-19   \n",
       "2                      WELLS FARGO & COMPANY    NV    891XX  NaN 2016-06-01   \n",
       "3      BANK OF AMERICA, NATIONAL ASSOCIATION    NC    283XX  NaN 2016-07-05   \n",
       "4                                    KEYCORP    NY    138XX  NaN 2015-11-21   \n",
       "\n",
       "                        cust_reply  timely_reply  disputed       ID  \\\n",
       "Index                                                                 \n",
       "0          Closed with explanation             1         0  2431565   \n",
       "1          Closed with explanation             1         1  2291872   \n",
       "2      Closed with monetary relief             1         0  1949163   \n",
       "3      Closed with monetary relief             1         0  1997875   \n",
       "4          Closed with explanation             1         1  1666956   \n",
       "\n",
       "                                              clean_text  \n",
       "Index                                                     \n",
       "0      I have documentation that shows that US Bank w...  \n",
       "1      After 2 years of service with no issues Coinba...  \n",
       "2      This complaint is regarding Wells Fargo.  I re...  \n",
       "3      I bank with Bank of America using the paybill ...  \n",
       "4      This is my fifth complaint against Key Bank be...  "
      ]
     },
     "execution_count": 4,
     "metadata": {},
     "output_type": "execute_result"
    }
   ],
   "source": [
    "# What the full data set looks like in a pandas DataFrame.\n",
    "# Each row is an observation (a complaint)\n",
    "# Each column is a feature (a quality of that complaint)\n",
    "\n",
    "data.head(5)"
   ]
  },
  {
   "cell_type": "code",
   "execution_count": 5,
   "metadata": {},
   "outputs": [
    {
     "data": {
      "text/html": [
       "<div>\n",
       "<style>\n",
       "    .dataframe thead tr:only-child th {\n",
       "        text-align: right;\n",
       "    }\n",
       "\n",
       "    .dataframe thead th {\n",
       "        text-align: left;\n",
       "    }\n",
       "\n",
       "    .dataframe tbody tr th {\n",
       "        vertical-align: top;\n",
       "    }\n",
       "</style>\n",
       "<table border=\"1\" class=\"dataframe\">\n",
       "  <thead>\n",
       "    <tr style=\"text-align: right;\">\n",
       "      <th></th>\n",
       "      <th>clean_text</th>\n",
       "      <th>issue</th>\n",
       "    </tr>\n",
       "    <tr>\n",
       "      <th>Index</th>\n",
       "      <th></th>\n",
       "      <th></th>\n",
       "    </tr>\n",
       "  </thead>\n",
       "  <tbody>\n",
       "    <tr>\n",
       "      <th>0</th>\n",
       "      <td>I have documentation that shows that US Bank w...</td>\n",
       "      <td>Low Funds</td>\n",
       "    </tr>\n",
       "    <tr>\n",
       "      <th>1</th>\n",
       "      <td>After 2 years of service with no issues Coinba...</td>\n",
       "      <td>Account</td>\n",
       "    </tr>\n",
       "    <tr>\n",
       "      <th>2</th>\n",
       "      <td>This complaint is regarding Wells Fargo.  I re...</td>\n",
       "      <td>Payments</td>\n",
       "    </tr>\n",
       "    <tr>\n",
       "      <th>3</th>\n",
       "      <td>I bank with Bank of America using the paybill ...</td>\n",
       "      <td>Low Funds</td>\n",
       "    </tr>\n",
       "    <tr>\n",
       "      <th>4</th>\n",
       "      <td>This is my fifth complaint against Key Bank be...</td>\n",
       "      <td>Low Funds</td>\n",
       "    </tr>\n",
       "  </tbody>\n",
       "</table>\n",
       "</div>"
      ],
      "text/plain": [
       "                                              clean_text      issue\n",
       "Index                                                              \n",
       "0      I have documentation that shows that US Bank w...  Low Funds\n",
       "1      After 2 years of service with no issues Coinba...    Account\n",
       "2      This complaint is regarding Wells Fargo.  I re...   Payments\n",
       "3      I bank with Bank of America using the paybill ...  Low Funds\n",
       "4      This is my fifth complaint against Key Bank be...  Low Funds"
      ]
     },
     "execution_count": 5,
     "metadata": {},
     "output_type": "execute_result"
    }
   ],
   "source": [
    "# These are the features we care about.\n",
    "data[['clean_text','issue']].head(5)"
   ]
  },
  {
   "cell_type": "code",
   "execution_count": 6,
   "metadata": {},
   "outputs": [
    {
     "name": "stdout",
     "output_type": "stream",
     "text": [
      "<class 'pandas.core.frame.DataFrame'>\n",
      "Int64Index: 14888 entries, 0 to 14887\n",
      "Data columns (total 17 columns):\n",
      "date_received    14888 non-null datetime64[ns]\n",
      "product          14888 non-null category\n",
      "sub_product      14888 non-null category\n",
      "issue            14888 non-null category\n",
      "sub_issue        0 non-null category\n",
      "text             14888 non-null object\n",
      "pub_reply        8629 non-null object\n",
      "company          14888 non-null category\n",
      "state            14769 non-null category\n",
      "zip_code         14688 non-null object\n",
      "tags             2430 non-null object\n",
      "date_sent        14888 non-null datetime64[ns]\n",
      "cust_reply       14888 non-null category\n",
      "timely_reply     14888 non-null int64\n",
      "disputed         14888 non-null int64\n",
      "ID               14888 non-null int64\n",
      "clean_text       14888 non-null object\n",
      "dtypes: category(7), datetime64[ns](2), int64(3), object(5)\n",
      "memory usage: 1.4+ MB\n"
     ]
    }
   ],
   "source": [
    "# Here's a global summary of our DataFrame.\n",
    "# There are about 15000 entries. Our features of interest don't have null values.\n",
    "\n",
    "data.info()"
   ]
  },
  {
   "cell_type": "markdown",
   "metadata": {},
   "source": [
    "Using matplotlib, we can make a plot to show the \"Class balance\" between the labels. This balance of labels is important to our classification task as it will directly reflect what is under or over represented in the training and testing data.\n",
    "\n",
    "Too few examples of a class may make that class very hard to predict for.\n",
    "\n",
    "This is often compensated for by under or oversampling classes.\n",
    "\n",
    "Luckily, we have enough examples of each class to create a balanced (equal frequency per class) training set and still have a sizeable test set.\n"
   ]
  },
  {
   "cell_type": "code",
   "execution_count": 7,
   "metadata": {},
   "outputs": [
    {
     "data": {
      "image/png": "[encoded data removed]",
      "text/plain": [
       "<matplotlib.figure.Figure at 0x10ce4ada0>"
      ]
     },
     "metadata": {},
     "output_type": "display_data"
    }
   ],
   "source": [
    "grp = data.groupby(['product','issue'])['text'].count()\n",
    "grp['Bank account or service'].plot(kind='barh',title = 'Complaints Per Issue',color='black',figsize=(6,6))\n",
    "plt.xlabel('# Of Complaints')\n",
    "plt.ylabel('Issue')\n",
    "plt.show()"
   ]
  },
  {
   "cell_type": "markdown",
   "metadata": {},
   "source": [
    "### Matrices and Bag of Words"
   ]
  },
  {
   "cell_type": "markdown",
   "metadata": {},
   "source": [
    "Machine learning usually works on numerical matrices and vectors.\n",
    "\n",
    "A matrix is like a DataFrame, but with only numbers as entries and labels.\n",
    "\n",
    "A vector is a single row or column of a matrix. This is like a list of floats in python.\n",
    "\n",
    "Numpy is a python library that does very efficient calculations with matrices and vectors."
   ]
  },
  {
   "cell_type": "code",
   "execution_count": 8,
   "metadata": {},
   "outputs": [
    {
     "data": {
      "text/plain": [
       "array([[ 1.,  0.,  0.,  0.,  0.],\n",
       "       [ 0.,  1.,  0.,  0.,  0.],\n",
       "       [ 0.,  0.,  1.,  0.,  0.],\n",
       "       [ 0.,  0.,  0.,  1.,  0.],\n",
       "       [ 0.,  0.,  0.,  0.,  1.]])"
      ]
     },
     "execution_count": 8,
     "metadata": {},
     "output_type": "execute_result"
    }
   ],
   "source": [
    "# This is a very important matrix called the Identity Matrix.\n",
    "# For multiplication between numbers, we rely on 1 to give us back what we put in.\n",
    "# That's called the multiplicative identity.\n",
    "# In matrix multiplication, the identity matrix has the same job.\n",
    "# This matrix is 5x5.\n",
    "\n",
    "np.eye(5)"
   ]
  },
  {
   "cell_type": "code",
   "execution_count": 9,
   "metadata": {},
   "outputs": [
    {
     "data": {
      "text/plain": [
       "array([1, 0, 0, 0, 0])"
      ]
     },
     "execution_count": 9,
     "metadata": {},
     "output_type": "execute_result"
    }
   ],
   "source": [
    "np.array([1,0,0,0,0])"
   ]
  },
  {
   "cell_type": "markdown",
   "metadata": {},
   "source": [
    "We want a vector that describes a document, which we can turn into a series of vectors describing all the documents (a matrix). What do we do?\n",
    "\n",
    "There are multiple solutions here and this is a non-trivial problem by itself. Let's choose something simple, effective and proven. Let's simply count how many times each word appears in each document.\n",
    "\n",
    "Each word will be a \"feature\", and will have a count for every document. But what words will we choose to count up? That's an important problem too. We'll call the words we choose to count the \"vocabulary.\"\n",
    "\n",
    "One vocabulary we can create is the collection of all words used in the text.\n",
    "\n",
    "Let's take the following toy example, borrowed from Harvard CS109's Lab 10 from 2015:"
   ]
  },
  {
   "cell_type": "code",
   "execution_count": 10,
   "metadata": {},
   "outputs": [
    {
     "name": "stdout",
     "output_type": "stream",
     "text": [
      "Original text is\n",
      "Hop on pop\n",
      "Hop off pop\n",
      "Hop Hop hop\n",
      "\n",
      "Transformed text vector is \n",
      "[[1 0 1 1]\n",
      " [1 1 0 1]\n",
      " [3 0 0 0]]\n",
      "\n",
      "Words for each feature:\n",
      "['hop', 'off', 'on', 'pop']\n"
     ]
    }
   ],
   "source": [
    "documents = ['Hop on pop', 'Hop off pop', 'Hop Hop hop']\n",
    "print(\"Original text is\\n{}\".format('\\n'.join(documents)))\n",
    "\n",
    "vectorizer = CountVectorizer(min_df=0)\n",
    "\n",
    "# call `fit` to build the vocabulary\n",
    "vectorizer.fit(documents)\n",
    "\n",
    "# call `transform` to convert text to a bag of words\n",
    "sparse_matrix = vectorizer.transform(documents)\n",
    "\n",
    "# CountVectorizer uses a sparse array to save memory, but it's easier \n",
    "# to work with a \"normal\" numpy matrix\n",
    "matrix = sparse_matrix.todense()\n",
    "\n",
    "print(\"\")\n",
    "print(\"Transformed text vector is \\n{}\".format(matrix))\n",
    "\n",
    "# `get_feature_names` tracks which word is associated with each column of the transformed x\n",
    "print(\"\")\n",
    "print(\"Words for each feature:\")\n",
    "print(vectorizer.get_feature_names())\n",
    "\n",
    "# Notice that the bag of words treatment doesn't preserve information about the *order* of words, \n",
    "# just their frequency"
   ]
  },
  {
   "cell_type": "markdown",
   "metadata": {},
   "source": [
    "Cool! But what will this look like on our data? A lot bigger, right?\n",
    "\n",
    "Let's calculate it (this takes about 45 seconds in my local environment) and then print it out for fun.\n",
    "\n",
    "This time we'll allow ourselves to include terms of 2-6 words as well as 1 word terms, to add to our predictive power at modeling time.\n",
    "\n",
    "We can imagine that 2 and 3 word phrases may be more specific, and therefore more predictive, of a class. However, we can also imagine that they will tend to be rarer than their consituent 1 word phrases.\n",
    "\n",
    "To put a constraint on what features are common enough to be useful, we'll say that the term must occur in at least one percent of the documents. In a more rigorous exercise, we might consider this parameter to be part of the \"search\" for an optimal set of parameters to use in the overall task.\n"
   ]
  },
  {
   "cell_type": "code",
   "execution_count": 11,
   "metadata": {
    "collapsed": true
   },
   "outputs": [],
   "source": [
    "documents = data['clean_text']\n",
    "vectorizer = CountVectorizer(stop_words='english',min_df=0.01,max_df=1.0,ngram_range=(1,6), max_features = 15000)\n",
    "X = vectorizer.fit_transform(documents)"
   ]
  },
  {
   "cell_type": "code",
   "execution_count": 12,
   "metadata": {
    "scrolled": false
   },
   "outputs": [
    {
     "name": "stdout",
     "output_type": "stream",
     "text": [
      "[[0 0 0 ..., 0 0 0]\n",
      " [1 0 0 ..., 0 0 0]\n",
      " [2 0 0 ..., 0 0 0]\n",
      " ..., \n",
      " [0 0 0 ..., 0 0 0]\n",
      " [3 0 0 ..., 0 0 0]\n",
      " [1 0 0 ..., 0 0 0]]\n",
      "\n",
      "Words for each feature:\n",
      "['00', '00 account', '00 balance', '00 bank', '00 bonus', '00 called', '00 cash', '00 charge', '00 check', '00 checking', '00 checking account', '00 debit', '00 deposit', '00 did', '00 dollars', '00 fee', '00 fees', '00 money', '00 month', '00 overdraft', '00 overdraft fee', '00 overdraft fees', '10', '10 00', '10 business', '10 business days', '10 days', '100', '100 00', '1000', '1000 00', '10000', '10000 00', '12', '12 00', '120', '14', '15', '150', '150 00', '1500', '1500 00', '16', '20', '20 00', '200', '200 00', '2000', '2000 00', '2014', '2015', '2016', '2016 received', '2017', '24', '24 hours', '25', '25 00', '250', '250 00', '30', '30 00', '30 days', '300', '300 00', '35', '35 00', '36', '36 00', '360', '40', '400', '400 00', '45', '48', '50', '50 00', '500', '500 00', '5000', '5000 00', '60', '60 days', '90', '90 days', 'aadvantage', 'ability', 'able', 'absolutely', 'accept', 'accepted', 'access', 'access account', 'access funds', 'access money', 'according', 'account', 'account 2015', 'account 2016', 'account account', 'account asked', 'account balance', 'account bank', 'account bank america', 'account called', 'account charged', 'account chase', 'account check', 'account checking', 'account citibank', 'account closed', 'account cover', 'account credit', 'account day', 'account did', 'account funds', 'account holder', 'account immediately', 'account information', 'account money', 'account month', 'account negative', 'account number', 'account online', 'account open', 'account opened', 'account opening', 'account overdraft', 'account overdrawn', 'account pay', 'account promotion', 'account received', 'account said', 'account sent', 'account time', 'account told', 'account using', 'account wells', 'account wells fargo', 'account went', 'account years', 'accounts', 'accounts bank', 'accounts closed', 'acct', 'ach', 'act', 'action', 'actions', 'active', 'activities', 'activity', 'actual', 'actually', 'add', 'added', 'addition', 'additional', 'additionally', 'address', 'addressed', 'admitted', 'advance', 'advantage', 'advise', 'advised', 'affidavit', 'afford', 'agencies', 'agency', 'agent', 'ago', 'agree', 'agreed', 'agreement', 'ahead', 'alert', 'allow', 'allowed', 'allowing', 'america', 'america account', 'american', 'amounts', 'answer', 'answered', 'answers', 'anymore', 'app', 'apparently', 'appear', 'appeared', 'appears', 'application', 'applied', 'apply', 'appreciate', 'appropriate', 'approved', 'approximately', 'area', 'arrived', 'ask', 'asked', 'asked speak', 'asking', 'assessed', 'assist', 'assistance', 'associated', 'assumed', 'assured', 'atm', 'atm card', 'attached', 'attempt', 'attempted', 'attempting', 'attempts', 'attention', 'attorney', 'authority', 'authorization', 'authorize', 'authorized', 'auto', 'automated', 'automatic', 'automatically', 'avail', 'available', 'available balance', 'avoid', 'aware', 'away', 'bad', 'balance', 'balance account', 'balances', 'bank', 'bank account', 'bank accounts', 'bank america', 'bank america account', 'bank bank', 'bank branch', 'bank card', 'bank charged', 'bank checking', 'bank closed', 'bank customer', 'bank did', 'bank does', 'bank manager', 'bank refused', 'bank representative', 'bank said', 'bank sent', 'bank statement', 'bank told', 'banker', 'banking', 'banks', 'based', 'basically', 'basis', 'bb', 'began', 'begin', 'beginning', 'behalf', 'behavior', 'believe', 'benefit', 'benefits', 'best', 'better', 'big', 'billing', 'bills', 'blocked', 'boa', 'bofa', 'bonus', 'bought', 'bounced', 'box', 'branch', 'branch manager', 'branches', 'breach', 'bring', 'brought', 'bureau', 'business', 'business account', 'business checking', 'business day', 'business days', 'buy', 'ca', 'california', 'called', 'called bank', 'called chase', 'called customer', 'called customer service', 'called number', 'called said', 'called spoke', 'called told', 'calling', 'calls', 'came', 'cancel', 'canceled', 'cancelled', 'capital', 'car', 'card', 'card account', 'card number', 'card purchases', 'cards', 'care', 'case', 'case number', 'cash', 'cash check', 'cashed', 'cashier', 'cause', 'caused', 'causing', 'cd', 'cell', 'center', 'certain', 'certificate', 'certified', 'cfpb', 'chance', 'change', 'changed', 'changes', 'charge', 'charge account', 'charge overdraft', 'charged', 'charged account', 'charged fee', 'charged fees', 'charged overdraft', 'charged overdraft fee', 'charged overdraft fees', 'charges', 'charges account', 'charging', 'chase', 'chase bank', 'chat', 'check', 'check account', 'check bank', 'check cashed', 'check cleared', 'check deposit', 'check deposited', 'checked', 'checked account', 'checking', 'checking account', 'checking account bank', 'checking accounts', 'checking savings', 'checking savings account', 'checks', 'children', 'citi', 'citi bank', 'citibank', 'citigold', 'citigold account', 'citigold checking', 'citigold checking account', 'citizen', 'citizens', 'citizens bank', 'claim', 'claimed', 'claiming', 'claims', 'class', 'clear', 'cleared', 'clearly', 'client', 'clients', 'close', 'close account', 'close accounts', 'closed', 'closed account', 'closed accounts', 'closing', 'closing account', 'closure', 'code', 'collect', 'collection', 'collections', 'college', 'come', 'comes', 'coming', 'committed', 'communication', 'companies', 'company', 'complain', 'complained', 'complaint', 'complaints', 'complete', 'completed', 'completed requirements', 'completely', 'completing', 'compromised', 'computer', 'concern', 'concerned', 'concerning', 'concerns', 'conditions', 'confirm', 'confirmation', 'confirmed', 'confirming', 'consecutive', 'consecutive months', 'consent', 'consider', 'considered', 'consumer', 'consumer financial', 'consumers', 'contact', 'contacted', 'contacted bank', 'contacting', 'continue', 'continued', 'continues', 'contract', 'control', 'conversation', 'copies', 'copy', 'corporate', 'correct', 'corrected', 'correctly', 'correspondence', 'cost', 'country', 'couple', 'course', 'court', 'cover', 'covered', 'created', 'credit', 'credit account', 'credit card', 'credit card account', 'credit cards', 'credit report', 'credit score', 'credit union', 'credited', 'credited account', 'credits', 'criminal', 'current', 'currently', 'customer', 'customer service', 'customer service representative', 'customers', 'daily', 'data', 'date', 'dated', 'dates', 'daughter', 'day', 'days', 'days account', 'days later', 'deal', 'dealing', 'dear', 'death', 'debit', 'debit card', 'debit cards', 'debited', 'debits', 'debt', 'deceptive', 'decided', 'decision', 'declined', 'deducted', 'delay', 'delivered', 'demand', 'denied', 'deny', 'denying', 'department', 'deposit', 'deposit account', 'deposit check', 'deposit money', 'deposited', 'deposited account', 'deposited check', 'depositing', 'deposits', 'dept', 'despite', 'details', 'determine', 'did', 'did authorize', 'did know', 'did make', 'did receive', 'did want', 'different', 'difficult', 'direct', 'direct deposit', 'direct deposits', 'directed', 'directly', 'discover', 'discovered', 'discuss', 'dispute', 'disputed', 'disputes', 'document', 'documentation', 'documents', 'does', 'doing', 'dollar', 'dollars', 'dont', 'double', 'draft', 'drawn', 'drive', 'earlier', 'early', 'earn', 'earned', 'effect', 'effort', 'electronic', 'electronically', 'eligible', 'email', 'emailed', 'emails', 'employee', 'employees', 'employer', 'end', 'ended', 'ending', 'ensure', 'entered', 'entire', 'error', 'escalated', 'especially', 'estate', 'evening', 'eventually', 'evidence', 'exact', 'exactly', 'example', 'excessive', 'executive', 'existing', 'expect', 'expected', 'expenses', 'experience', 'explain', 'explained', 'explaining', 'explanation', 'express', 'extended', 'extra', 'extremely', 'fact', 'failed', 'failure', 'fair', 'fake', 'false', 'family', 'far', 'fargo', 'fargo bank', 'father', 'fault', 'fax', 'faxed', 'federal', 'federal credit', 'federal credit union', 'fee', 'fee account', 'fee charged', 'feel', 'feel like', 'fees', 'fees account', 'fees charged', 'felt', 'figure', 'file', 'file complaint', 'filed', 'filed complaint', 'filed police', 'filed police report', 'filing', 'filing complaint', 'filled', 'final', 'finally', 'financial', 'financial institution', 'financial protection', 'fine', 'fix', 'fixed', 'follow', 'followed', 'following', 'following day', 'food', 'forced', 'form', 'forms', 'forth', 'forward', 'frame', 'fraud', 'fraud department', 'fraudulent', 'fraudulent activity', 'fraudulently', 'free', 'freeze', 'friday', 'friend', 'froze', 'frozen', 'frustrated', 'fulfilled', 'fully', 'fund', 'funds', 'funds account', 'funds available', 'funds bank', 'furthermore', 'future', 'gas', 'gave', 'general', 'getting', 'given', 'giving', 'goes', 'going', 'gone', 'good', 'good standing', 'got', 'gotten', 'government', 'great', 'hacked', 'half', 'hand', 'handle', 'handled', 'handling', 'happen', 'happened', 'happening', 'happy', 'hard', 'having', 'hear', 'heard', 'held', 'hello', 'help', 'helped', 'helpful', 'helping', 'high', 'higher', 'history', 'hit', 'hold', 'holder', 'holding', 'home', 'honor', 'hope', 'hour', 'hours', 'house', 'huge', 'hung', 'husband', 'id', 'idea', 'identity', 'identity theft', 'ignored', 'illegal', 'illegally', 'im', 'immediate', 'immediately', 'immediately called', 'important', 'impossible', 'incident', 'include', 'included', 'including', 'income', 'incorrect', 'incurred', 'indicated', 'indicating', 'individual', 'info', 'inform', 'information', 'informed', 'informing', 'initial', 'initially', 'initiated', 'inquire', 'inquired', 'inquiry', 'inside', 'instead', 'institution', 'institutions', 'instructed', 'instructions', 'insufficient', 'insufficient funds', 'insurance', 'internal', 'internet', 'investigate', 'investigated', 'investigating', 'investigation', 'involved', 'ira', 'irs', 'issue', 'issued', 'issues', 'item', 'items', 'job', 'joint', 'joint account', 'just', 'just want', 'keeping', 'kept', 'kind', 'knew', 'know', 'knowing', 'knowledge', 'known', 'lack', 'lady', 'large', 'late', 'late fee', 'late fees', 'later', 'later received', 'law', 'laws', 'learned', 'leave', 'leaving', 'left', 'legal', 'legitimate', 'let', 'let know', 'letter', 'letter stating', 'letters', 'level', 'liable', 'license', 'lie', 'lied', 'life', 'like', 'likely', 'limit', 'limited', 'line', 'line credit', 'link', 'linked', 'list', 'listed', 'little', 'live', 'living', 'll', 'loan', 'loans', 'local', 'local bank', 'local branch', 'located', 'location', 'locked', 'log', 'logged', 'long', 'long time', 'longer', 'look', 'looked', 'looking', 'lose', 'loss', 'lost', 'lot', 'low', 'lower', 'machine', 'mail', 'mailed', 'mailing', 'main', 'maintain', 'maintenance', 'make', 'make deposit', 'make payment', 'make sure', 'makes', 'making', 'man', 'management', 'manager', 'manager told', 'managers', 'manner', 'market', 'matter', 'maybe', 'mean', 'means', 'meet', 'meeting', 'member', 'mention', 'mentioned', 'merchant', 'message', 'messages', 'met', 'met requirements', 'miles', 'mind', 'minimum', 'minutes', 'misleading', 'missing', 'mistake', 'mobile', 'monday', 'money', 'money account', 'money bank', 'money taken', 'monies', 'month', 'monthly', 'monthly fee', 'months', 'months ago', 'months later', 'morgan', 'morning', 'mortgage', 'mother', 'moved', 'moving', 'multiple', 'multiple times', 'named', 'names', 'national', 'navy', 'navy federal', 'nearly', 'necessary', 'need', 'need help', 'needed', 'needs', 'negative', 'negative balance', 'new', 'new account', 'new bank', 'new card', 'new checking', 'new checking account', 'night', 'non', 'normal', 'note', 'noted', 'notes', 'notice', 'noticed', 'notification', 'notified', 'notify', 'notifying', 'nsf', 'number', 'numbers', 'numerous', 'numerous times', 'ny', 'obtain', 'obviously', 'occasions', 'occurred', 'offer', 'offered', 'offering', 'offers', 'office', 'officer', 'ok', 'old', 'online', 'online account', 'online banking', 'open', 'open account', 'open bank', 'open checking', 'open new', 'opened', 'opened account', 'opened checking', 'opened checking account', 'opened citigold', 'opened citigold checking', 'opened new', 'opening', 'opening account', 'opportunity', 'option', 'options', 'order', 'ordered', 'original', 'originally', 'outside', 'outstanding', 'overdraft', 'overdraft charges', 'overdraft fee', 'overdraft fees', 'overdraft protection', 'overdrafts', 'overdrawn', 'owe', 'owed', 'owner', 'page', 'paid', 'paper', 'paperwork', 'particular', 'party', 'passed', 'past', 'pay', 'pay bills', 'paycheck', 'paying', 'payment', 'payments', 'paypal', 'payroll', 'pending', 'people', 'period', 'permission', 'person', 'personal', 'personal checking', 'personal information', 'personally', 'phone', 'phone calls', 'phone number', 'pin', 'place', 'placed', 'placed hold', 'plan', 'plus', 'pnc', 'pnc bank', 'point', 'points', 'police', 'police report', 'policies', 'policy', 'poor', 'position', 'positive', 'positive balance', 'possession', 'possible', 'possibly', 'post', 'posted', 'posted account', 'posting', 'power', 'practice', 'practices', 'present', 'presented', 'president', 'prevent', 'previous', 'previously', 'print', 'printed', 'prior', 'probably', 'problem', 'problems', 'proceeded', 'process', 'processed', 'processing', 'product', 'program', 'promised', 'promotion', 'promotion code', 'promotional', 'promotional offer', 'proof', 'proper', 'properly', 'property', 'protect', 'protection', 'prove', 'provide', 'provide information', 'provided', 'providing', 'provisional', 'public', 'pull', 'pulled', 'purchase', 'purchased', 'purchases', 'purpose', 'putting', 'qualified', 'qualify', 'question', 'questions', 'quickly', 'quite', 'rate', 'reach', 'reached', 'read', 'real', 'realize', 'realized', 'really', 'reason', 'reasonable', 'reasons', 'receipt', 'receive', 'receive bonus', 'received', 'received check', 'received email', 'received letter', 'received notice', 'received response', 'receiving', 'recent', 'recently', 'record', 'recorded', 'records', 'reference', 'referred', 'refund', 'refund money', 'refunded', 'refuse', 'refused', 'refuses', 'refusing', 'regarding', 'regards', 'regions', 'regions bank', 'regular', 'regulation', 'regulations', 'reimburse', 'rejected', 'related', 'relationship', 'release', 'release funds', 'released', 'remaining', 'remove', 'removed', 'rent', 'rep', 'repeated', 'repeatedly', 'replied', 'reply', 'report', 'reported', 'reporting', 'reports', 'representative', 'representative told', 'representatives', 'reps', 'request', 'requested', 'requesting', 'requests', 'require', 'required', 'requirement', 'requirements', 'research', 'resolution', 'resolve', 'resolve issue', 'resolved', 'respond', 'responded', 'response', 'responsibility', 'responsible', 'rest', 'result', 'resulted', 'resulting', 'return', 'return money', 'returned', 'returning', 'reverse', 'reversed', 'review', 'reviewed', 'reviewing', 'ridiculous', 'right', 'rights', 'risk', 'rude', 'rules', 'run', 'safe', 'said', 'said did', 'sale', 'saturday', 'saving', 'savings', 'savings account', 'savings accounts', 'saw', 'say', 'saying', 'says', 'scam', 'scheduled', 'score', 'scottrade', 'screen', 'second', 'secure', 'security', 'security number', 'seen', 'send', 'sending', 'sense', 'sent', 'sent email', 'sent letter', 'separate', 'service', 'service fee', 'service rep', 'service representative', 'services', 'set', 'short', 'showed', 'showing', 'shown', 'shows', 'sign', 'signature', 'signed', 'similar', 'simple', 'simply', 'sincerely', 'single', 'site', 'situation', 'small', 'social', 'social security', 'social security number', 'sold', 'son', 'soon', 'sorry', 'speak', 'speak supervisor', 'speaking', 'specific', 'specifically', 'spend', 'spending', 'spent', 'spoke', 'spoken', 'staff', 'standing', 'start', 'started', 'state', 'stated', 'statement', 'statements', 'states', 'stating', 'status', 'stay', 'steal', 'stealing', 'steps', 'stole', 'stolen', 'stop', 'stop payment', 'stopped', 'store', 'story', 'student', 'subject', 'submit', 'submitted', 'subsequently', 'sufficient', 'suggested', 'suntrust', 'suntrust bank', 'supervisor', 'support', 'supposed', 'supposedly', 'sure', 'suspicious', 'switch', 'systems', 'taken', 'taken account', 'takes', 'taking', 'talk', 'talked', 'talking', 'targeted', 'tax', 'td', 'td bank', 'team', 'telephone', 'tell', 'teller', 'telling', 'tells', 'temporary', 'terms', 'terms conditions', 'text', 'thank', 'thanks', 'theft', 'thing', 'things', 'think', 'thought', 'thursday', 'till', 'time', 'time told', 'timely', 'times', 'today', 'told', 'told account', 'told bank', 'told check', 'told did', 'told needed', 'took', 'took money', 'total', 'totaling', 'totally', 'transaction', 'transactions', 'transfer', 'transfer funds', 'transfer money', 'transferred', 'transferring', 'transfers', 'travel', 'treated', 'tried', 'true', 'trust', 'try', 'trying', 'tuesday', 'turn', 'turned', 'twice', 'type', 'unable', 'unacceptable', 'unauthorized', 'understand', 'understanding', 'unethical', 'unfair', 'unfortunately', 'union', 'unknown', 'unless', 'unprofessional', 'update', 'updated', 'upset', 'usaa', 'use', 'used', 'using', 'usually', 'valid', 'value', 'various', 've', 'verification', 'verified', 'verify', 'victim', 'view', 'violated', 'violation', 'visa', 'visit', 'visited', 'voice', 'wait', 'waited', 'waiting', 'waive', 'waived', 'walked', 'wallet', 'want', 'want money', 'wanted', 'warning', 'way', 'website', 'week', 'week later', 'weekend', 'weeks', 'weeks ago', 'weeks later', 'wells', 'wells fargo', 'wells fargo bank', 'went', 'went bank', 'went branch', 'went local', 'wife', 'willing', 'wire', 'withdraw', 'withdraw money', 'withdrawal', 'withdrawals', 'withdrawn', 'withdrew', 'wo', 'woman', 'work', 'worked', 'working', 'works', 'worse', 'worst', 'worth', 'write', 'writing', 'written', 'wrong', 'wrote', 'wrote check', 'year', 'years', 'years ago', 'yes', 'yesterday']\n"
     ]
    }
   ],
   "source": [
    "print(X.todense())\n",
    "print(\"\")\n",
    "print(\"Words for each feature:\")\n",
    "# One statement to print them all...\n",
    "print(vectorizer.get_feature_names())"
   ]
  },
  {
   "cell_type": "markdown",
   "metadata": {},
   "source": [
    "Okay, that's too many terms to count on our toes and fingers, but getting immersed in the terms we're dealing with was hopefully a nice qualitative exercise.\n",
    "\n",
    "Let's see a count."
   ]
  },
  {
   "cell_type": "code",
   "execution_count": 15,
   "metadata": {},
   "outputs": [
    {
     "data": {
      "text/plain": [
       "(14888, 1492)"
      ]
     },
     "execution_count": 15,
     "metadata": {},
     "output_type": "execute_result"
    }
   ],
   "source": [
    "X.shape"
   ]
  },
  {
   "cell_type": "markdown",
   "metadata": {},
   "source": [
    "1492 words.14888 documents. Great. Numbers are super useful.\n",
    "\n",
    "Let's get labels to go with those features."
   ]
  },
  {
   "cell_type": "code",
   "execution_count": 16,
   "metadata": {
    "collapsed": true
   },
   "outputs": [],
   "source": [
    "y = data['issue']"
   ]
  },
  {
   "cell_type": "markdown",
   "metadata": {},
   "source": [
    "# The Picture of Classification"
   ]
  },
  {
   "cell_type": "markdown",
   "metadata": {},
   "source": [
    "![Decision Boundaries](decision_boundaries.jpg)\n",
    "Borrowed from Hanspeter Pfister's Lecture 9 slides in Harvard CS109, 2015."
   ]
  },
  {
   "cell_type": "markdown",
   "metadata": {},
   "source": [
    "Our classifier's job is to draw a boundary that seperates the members of each class in the \"Feature Space.\"\n",
    "\n",
    "Our Feature Space has as many dimensions as we have terms, so we can't visualize this one in the same way. The logic still applies, though!\n",
    "\n",
    "In this case the boundary was a line, but depending on how the data is seperated, we might want to draw a much different shape. If our shape is too contrived (more to do with the training data than the overall population), we'll have high error from variance. \n",
    "\n",
    "If our shape is unrelated to or too simple to characterize the relationships in the data, it will have higher error from bias.\n",
    "\n",
    "Of course, there's also just some error we can never get past, even with an \"ideal model.\" This is the irreducible error.\n",
    "\n",
    "If we just draw the a decision boundary and use it to classify the data, this is called a \"discriminative classifier.\"\n",
    "\n",
    "Our classifier we will first attempt to model the probability of a class given the data. IE This is 79% likely to be an 'Account' complaint. This is called a \"Generative Classifier\" because it builds a full probability model for each outcome. The decision boundary is arrived at by choosing which outcome is \"most likely.\" \n",
    "\n",
    "The field of statistics that likes to treat everything as a probability distribution is called Bayesian Statistics. This is actually a suprisingly helpful thing to do.\n"
   ]
  },
  {
   "cell_type": "markdown",
   "metadata": {},
   "source": [
    "# The Logic of Naive Bayes"
   ]
  },
  {
   "cell_type": "markdown",
   "metadata": {},
   "source": [
    "From Bayes' Theorem, we have that\n",
    "\n",
    "$$P(c \\vert f) = \\frac{P(c \\cap f)}{P(f)}$$\n",
    "\n",
    "where $c$ represents a *class* or category, and $f$ represents a feature vector, such as $\\bar V(d)$ as above. **We are computing the probability that a document (or whatever we are classifying) belongs to category *c* given the features in the document.** $P(f)$ is really just a normalization constant, so the literature usually writes Bayes' Theorem in context of Naive Bayes as\n",
    "\n",
    "$$P(c \\vert f) \\propto P(f \\vert c) P(c) $$ \n",
    "\n",
    "To consider the whole vector of features, we multiply a chain of the probabilities on the right hand side.\n",
    "\n",
    "$$P(f \\vert c)  = \\prod_i P(f_i | c) $$\n",
    "\n",
    "To avoid a numerical error called underflow when multiplying these really small decimals, we turn the multiplication into addition in log space. This is a neat trick you might have done in calculus class.\n",
    "\n",
    "$$\\log P(f \\vert c)  = \\sum_i \\log P(f_i \\vert c) $$\n",
    "\n",
    "Let's include the discrete count values that go into computing these probabilities. Now, in order to avoid multiplying our result by zero or trying to take the log of zero, we add a integer value called alpha to every value. Usually alpha equals 1, in which case it is called \"Laplace smoothing.\"\n",
    "\n",
    "$$P(f_i \\vert c) = \\frac{N_{ic}+\\alpha}{N_c + \\alpha N_i}$$\n",
    "\n",
    "where $N_{ic}$ is the number of times feature $i$ was seen in class $c$, $N_c$ is the number of times class $c$ was seen and $N_i$ is the number of times feature $i$ was seen globally. $\\alpha$ is sometimes called a regularization parameter.\n",
    "\n",
    "##### Multinomial Naive Bayes \n",
    "\n",
    "Since we are modeling word counts, we are using variation of Naive Bayes called Multinomial Naive Bayes. In the case, calculating the probability corresponds with the multinomial distribution- a probability distribution for rolling a $k$ sided die $n$ times where $k$ is the number of classes and $n$ is the number of observations.\n",
    "\n",
    "$$P(f \\vert c) = \\frac{\\left( \\sum_i f_i \\right)!}{\\prod_i f_i!} \\prod_{f_i} P(f_i \\vert c)^{f_i} \\propto \\prod_{i} P(f_i \\vert c)$$\n",
    "\n",
    "where the nasty term out front is absorbed as a normalization constant such that probabilities sum to 1.\n",
    "\n",
    "A useful effect of multinomial bayes is that our decision boundary will linear, just like the one that we've been visualizing."
   ]
  },
  {
   "cell_type": "markdown",
   "metadata": {},
   "source": [
    "### Splitting between a Balanced training set and Stratified test set"
   ]
  },
  {
   "cell_type": "markdown",
   "metadata": {},
   "source": [
    "We will translate the concept of \"Seen data\" here to the more conventional \"Training Set.\"\n",
    "\n",
    "This is the data the model gets to see and adjust itself to. \"Unseen data\" will relate more to the \"Test Set.\" This is the data that we then test our model's performance on to see if it \"generalizes\" to successfully predict new examples.\n",
    "\n",
    "A balanced set is one that evenly represents each class. A stratified set is one that represents the classes with the same relative frequency they had in the original data set.\n",
    "\n",
    "Normally we could use Sklearn's built in train_test_split method, but using a balanced set requires some hand-coding (as far as I know.)"
   ]
  },
  {
   "cell_type": "code",
   "execution_count": 22,
   "metadata": {
    "collapsed": true
   },
   "outputs": [],
   "source": [
    "#Take a balanced sampling for an alternative training set and an unbalanced/stratified test set\n",
    "np.random.seed(42)\n",
    "\n",
    "class_balance = np.array([len(data[data['issue'] == issue]) for issue in issues])\n",
    "\n",
    "data_copy = data.copy()\n",
    "training_set = np.array([])\n",
    "test_set = np.array([])\n",
    "smallest_class_total = np.min(class_balance)\n",
    "test_frac = 0.33\n",
    "training_size = int(np.floor(smallest_class_total*(1-test_frac)))\n",
    "min_test_size = smallest_class_total-training_size\n",
    "test_sizes = np.floor(class_balance*(min_test_size/smallest_class_total)).astype(int)\n",
    "\n",
    "for counter, class_size in enumerate(class_balance):\n",
    "    training_selections = np.random.choice(\n",
    "        data_copy[data_copy['issue'] == issues[counter]].index,\n",
    "        size=training_size,\n",
    "        replace=False\n",
    "    )\n",
    "    training_set = np.append(training_set,training_selections)\n",
    "    data_copy = data_copy.drop(training_selections)\n",
    "    \n",
    "    test_selections = np.random.choice(\n",
    "        data_copy[data_copy['issue'] == issues[counter]].index,\n",
    "        size=test_sizes[counter],\n",
    "        replace=False\n",
    "    )\n",
    "    test_set = np.append(test_set,test_selections)\n",
    "    data_copy = data_copy.drop(test_selections)\n",
    "\n",
    "training_set = training_set.astype(int)\n",
    "test_set = training_set.astype(int)"
   ]
  },
  {
   "cell_type": "markdown",
   "metadata": {},
   "source": [
    "### Let's train the model and make some predictions!\n",
    "\n",
    "Notice how little code is required below. \n",
    "\n",
    "Scikit-Learn provides a very nicely abstracted interface to Machine Learning algorithms.\n",
    "A similiar classifier, like a Support Vector Machine or K-Nearest Neighbor, will usually provide a similiar interface."
   ]
  },
  {
   "cell_type": "code",
   "execution_count": 23,
   "metadata": {
    "collapsed": true
   },
   "outputs": [],
   "source": [
    "X_train, y_train = X[training_set],y[training_set]\n",
    "X_test, y_test = X[test_set], y[test_set]"
   ]
  },
  {
   "cell_type": "code",
   "execution_count": 24,
   "metadata": {},
   "outputs": [
    {
     "data": {
      "text/plain": [
       "MultinomialNB(alpha=1.0, class_prior=None, fit_prior=True)"
      ]
     },
     "execution_count": 24,
     "metadata": {},
     "output_type": "execute_result"
    }
   ],
   "source": [
    "mnb_classifier = MultinomialNB()\n",
    "mnb_classifier.fit(X=X_train,y=y_train)"
   ]
  },
  {
   "cell_type": "markdown",
   "metadata": {},
   "source": [
    "The confusion matrix below gives us an image of which classes are mistaken for each other. We can relate this back to the idea of seperability intuitively.\n",
    "\n",
    "Each row of this matrix tells us what portion of the documents predicted to be a given class (predicted class) were actually labeled as each class (actual class). As we can see, Account predictions are sometimes made for payments and transactions classes. Similarly, Payments predictions are sometimes made for card and transactions.\n",
    "\n",
    "We can think of this as an issue of \"seperability\" in the space, where our model tends to favor one class over another when it comes to deciding the ambiguous cases.\n",
    "\n",
    "##### Grasping the relationship between this matrix and the picture of classification is goal of this presentation.\n",
    "\n",
    "We'll address standard metrics for assessing model performance below."
   ]
  },
  {
   "cell_type": "code",
   "execution_count": 25,
   "metadata": {},
   "outputs": [
    {
     "data": {
      "image/png": "[encoded data removed]",
      "text/plain": [
       "<matplotlib.figure.Figure at 0x111e5c320>"
      ]
     },
     "metadata": {},
     "output_type": "display_data"
    },
    {
     "name": "stdout",
     "output_type": "stream",
     "text": [
      "              precision    recall  f1-score   support\n",
      "\n",
      "     Account       0.73      0.61      0.66       960\n",
      "        Card       0.72      0.76      0.74       960\n",
      "   Low Funds       0.72      0.83      0.77       960\n",
      "    Payments       0.62      0.61      0.62       960\n",
      "Transactions       0.58      0.56      0.57       960\n",
      "\n",
      " avg / total       0.67      0.67      0.67      4800\n",
      "\n",
      "Num of training examples : [ 960.  960.  960.  960.  960.]\n",
      "Num of testing examples : [2095  527  688  472 1130]\n"
     ]
    }
   ],
   "source": [
    "predictions = mnb_classifier.predict(X=X_test)\n",
    "confusion = np.matrix(metrics.confusion_matrix(y_test,predictions))\n",
    "rel_confusion = confusion/confusion.sum(axis=1)\n",
    "rc_df = pd.DataFrame(rel_confusion,index=issues,columns=issues)\n",
    "heat = sns.heatmap(rc_df,cmap='magma',annot=True)\n",
    "heat.set(xlabel = 'Actual Issue',ylabel = 'Predicted Issue',title= 'Predicted vs Actual Issue')\n",
    "plt.show()\n",
    "print(metrics.classification_report(y_test,predictions))\n",
    "print('Num of training examples :',mnb_classifier.class_count_)\n",
    "print('Num of testing examples :',test_sizes)"
   ]
  },
  {
   "cell_type": "markdown",
   "metadata": {},
   "source": [
    "Precision tells us what fraction of all of our positive predictions were true. \n",
    "\n",
    "Recall tells us what fraction of all of the available positives we captured in our predictions.\n",
    "\n",
    "We can imagine different scenarios when we might have a preferences for either. \n",
    "\n",
    "The dilemma goes like this: Is it more important to only predict positively when we're certain of it, or is it more important to make a positive prediction if think there's any legitimate chance it's a true positive?\n",
    "\n",
    "Let $tp$  mean true positives, $fp$ false positives, and $fn$ false negatives.\n",
    "\n",
    "Precision is equal to $$ \\frac{tp}{tp+fp}$$\n",
    "\n",
    "Recall is equal to $$ \\frac{tp}{tp+fn}$$\n",
    "\n",
    "The F1 score combines these by taking their harmonic mean. \n",
    "\n",
    "F1 is equal to $$ 2 \\cdot \\frac{precision \\cdot recall}{precision+recall} $$\n",
    "\n",
    "Support, as you might have guessed, is just the number of training examples.\n",
    "\n",
    "So, we see there are certain categories that are easily mistaken for one another.\n",
    "\n",
    "We have a number of ways to try to remedy this situation, none of which are guaranteed to to help us. We can save this dilemma for another day!"
   ]
  },
  {
   "cell_type": "markdown",
   "metadata": {},
   "source": [
    "\n",
    "## EXTRAS:"
   ]
  },
  {
   "cell_type": "markdown",
   "metadata": {},
   "source": [
    "### Finding the most predictive terms for each class\n",
    "\n",
    "Remember that naive bayes is a generative classifier and can tell us the probability of a class given a term vector?\n",
    "\n",
    "This works to our advantage in that we can predict the probability of a class given 1 occurence of each term in the vocabulary.\n",
    "\n",
    "This allows us to see which terms of maximally and minimally predictive of each class - a nice qualitative insight."
   ]
  },
  {
   "cell_type": "code",
   "execution_count": 26,
   "metadata": {
    "scrolled": false
   },
   "outputs": [
    {
     "name": "stdout",
     "output_type": "stream",
     "text": [
      "--------------------------------------\n",
      "             Account\n",
      "--------------------------------------\n",
      "Likely terms\t     P(class | term)\n",
      "         provisional 0.99\n",
      "              debits 0.98\n",
      "    charge overdraft 0.98\n",
      "      withdraw money 0.97\n",
      "              mobile 0.96\n",
      "        stop payment 0.96\n",
      "             weekend 0.96\n",
      "  insufficient funds 0.96\n",
      "     funds available 0.96\n",
      "                 nsf 0.96\n",
      "Unlikely terms\t     P(class | term)\n",
      "   promotional offer 0.12\n",
      "      promotion code 0.11\n",
      "completed requirements 0.11\n",
      "citigold checking account 0.09\n",
      "   citigold checking 0.09\n",
      "    met requirements 0.08\n",
      "           promotion 0.07\n",
      "          aadvantage 0.07\n",
      "               bonus 0.07\n",
      "            citigold 0.05\n",
      "--------------------------------------\n",
      "                Card\n",
      "--------------------------------------\n",
      "Likely terms\t     P(class | term)\n",
      "           promotion 1.00\n",
      "               bonus 0.99\n",
      "            citigold 0.99\n",
      "            00 bonus 0.99\n",
      "                 ira 0.99\n",
      "    met requirements 0.99\n",
      "   citigold checking 0.99\n",
      "citigold checking account 0.99\n",
      "         promotional 0.98\n",
      "          aadvantage 0.98\n",
      "Unlikely terms\t     P(class | term)\n",
      "       police report 0.43\n",
      "            new card 0.43\n",
      "        filed police 0.43\n",
      "                 atm 0.42\n",
      "         provisional 0.42\n",
      "         card number 0.41\n",
      "            atm card 0.40\n",
      "          debit card 0.40\n",
      " filed police report 0.39\n",
      "                 pin 0.32\n",
      "--------------------------------------\n",
      "           Low Funds\n",
      "--------------------------------------\n",
      "Likely terms\t     P(class | term)\n",
      "           scottrade 1.00\n",
      "           affidavit 0.99\n",
      "              copies 0.99\n",
      "               bonus 0.99\n",
      "personal information 0.99\n",
      "        verification 0.99\n",
      "         certificate 0.99\n",
      "                  cd 0.99\n",
      "          aadvantage 0.98\n",
      "         provisional 0.98\n",
      "Unlikely terms\t     P(class | term)\n",
      "    charge overdraft 0.26\n",
      "    positive balance 0.26\n",
      "    00 overdraft fee 0.25\n",
      "        00 overdraft 0.25\n",
      "           overdraft 0.25\n",
      "       overdraft fee 0.23\n",
      "               35 00 0.22\n",
      "   charged overdraft 0.22\n",
      "      overdraft fees 0.22\n",
      "charged overdraft fees 0.19\n",
      "--------------------------------------\n",
      "            Payments\n",
      "--------------------------------------\n",
      "Likely terms\t     P(class | term)\n",
      "               bonus 1.00\n",
      "            citigold 0.99\n",
      "     opening account 0.99\n",
      "   overdraft charges 0.99\n",
      "            00 bonus 0.99\n",
      "           promotion 0.99\n",
      "    met requirements 0.99\n",
      "   citigold checking 0.99\n",
      "citigold checking account 0.99\n",
      "          aadvantage 0.98\n",
      "Unlikely terms\t     P(class | term)\n",
      "              cashed 0.52\n",
      "                wire 0.51\n",
      "              paypal 0.51\n",
      "                late 0.51\n",
      "        stop payment 0.51\n",
      "          electronic 0.51\n",
      "        check cashed 0.49\n",
      "             payment 0.44\n",
      "        make payment 0.42\n",
      "            late fee 0.36\n",
      "--------------------------------------\n",
      "        Transactions\n",
      "--------------------------------------\n",
      "Likely terms\t     P(class | term)\n",
      "            citigold 0.98\n",
      "          aadvantage 0.98\n",
      "      promotion code 0.98\n",
      "               miles 0.98\n",
      "   account promotion 0.98\n",
      "    met requirements 0.97\n",
      "completed requirements 0.97\n",
      "   citigold checking 0.97\n",
      "citigold checking account 0.97\n",
      "           fulfilled 0.97\n",
      "Unlikely terms\t     P(class | term)\n",
      "            00 check 0.55\n",
      "           deposited 0.55\n",
      "             payroll 0.54\n",
      "       release funds 0.53\n",
      "       check deposit 0.52\n",
      "         certificate 0.52\n",
      "       deposit check 0.47\n",
      "              teller 0.45\n",
      "       check cleared 0.45\n",
      "     deposited check 0.40\n"
     ]
    }
   ],
   "source": [
    "vocabulary = np.array(vectorizer.get_feature_names())\n",
    "\n",
    "x = np.eye(X_test.shape[1])\n",
    "probs = mnb_classifier.predict_log_proba(x)\n",
    "\n",
    "for counter, issue in enumerate(issues):\n",
    "    \n",
    "    print('--------------------------------------')\n",
    "    print(\"{:>20}\".format(issue))\n",
    "    print('--------------------------------------')\n",
    "    \n",
    "    ind = np.argsort(probs[:,counter])\n",
    "    \n",
    "    likely_terms = vocabulary[ind[:10]]\n",
    "    unlikely_terms = vocabulary[ind[-10:]]\n",
    "\n",
    "    likely_prob = probs[ind[:10],counter]\n",
    "    unlikely_prob = probs[ind[-10:],counter]\n",
    "    \n",
    "    print(\"Likely terms\\t     P(class | term)\")\n",
    "    for w, p in zip(likely_terms, likely_prob):\n",
    "        print(\"{:>20}\".format(w), \"{:.2f}\".format(1 - np.exp(p)))\n",
    "    \n",
    "    print(\"Unlikely terms\\t     P(class | term)\")\n",
    "    for w, p in zip(unlikely_terms, unlikely_prob):\n",
    "        print(\"{:>20}\".format(w), \"{:.2f}\".format(1 - np.exp(p)))\n",
    "        \n",
    "plt.show()"
   ]
  },
  {
   "cell_type": "markdown",
   "metadata": {},
   "source": [
    "We can see the distribution of P(Class|Term) values as a probability density function approximated by a histogram, or as an empirical cumulative distribution. Notice that the peak of this distribution is at 0.8. If we allowed more and more common words into the vocabulary, we could expect to see many more terms with lower P values than these."
   ]
  },
  {
   "cell_type": "code",
   "execution_count": 27,
   "metadata": {},
   "outputs": [
    {
     "data": {
      "image/png": "[encoded data removed]",
      "text/plain": [
       "<matplotlib.figure.Figure at 0x1a432a5f60>"
      ]
     },
     "metadata": {},
     "output_type": "display_data"
    }
   ],
   "source": [
    "p = (1 - np.exp(probs))\n",
    "fig, ax = plt.subplots(figsize=(8,6))\n",
    "plt.hist(p, bins = 16)\n",
    "plt.title('Distribution of P(Class|Term)')\n",
    "plt.xlabel('Probability of Class given Term')\n",
    "plt.ylabel('Number of Terms')\n",
    "plt.legend(issues)\n",
    "plt.show()"
   ]
  },
  {
   "cell_type": "code",
   "execution_count": 28,
   "metadata": {},
   "outputs": [
    {
     "data": {
      "text/plain": [
       "array([ 0.8060505 ,  0.81198122,  0.8302432 ,  0.80235754,  0.80890306])"
      ]
     },
     "execution_count": 28,
     "metadata": {},
     "output_type": "execute_result"
    }
   ],
   "source": [
    "np.median(p,axis=0)"
   ]
  },
  {
   "cell_type": "code",
   "execution_count": 29,
   "metadata": {},
   "outputs": [
    {
     "data": {
      "image/png": "[encoded data removed]",
      "text/plain": [
       "<matplotlib.figure.Figure at 0x1a48d82668>"
      ]
     },
     "metadata": {},
     "output_type": "display_data"
    }
   ],
   "source": [
    "prob_df = pd.DataFrame(p,columns=issues)\n",
    "fig, ax = plt.subplots(figsize=(8,6))\n",
    "for issue in issues:\n",
    "    sns.kdeplot(prob_df[issue],linewidth=2,cumulative=True)\n",
    "\n",
    "plt.title('Distribution of P(Class|Term) values - a cumulative view')\n",
    "plt.xlabel('Probability Value')\n",
    "plt.ylabel('Portion of P(Class|Term) values less than x')\n",
    "plt.ylim([-0.1,1.1])\n",
    "plt.show()"
   ]
  },
  {
   "cell_type": "markdown",
   "metadata": {},
   "source": [
    "### Add something here! Play around with stuff."
   ]
  }
 ],
 "metadata": {
  "kernelspec": {
   "display_name": "Python 3",
   "language": "python",
   "name": "python3"
  },
  "language_info": {
   "codemirror_mode": {
    "name": "ipython",
    "version": 3
   },
   "file_extension": ".py",
   "mimetype": "text/x-python",
   "name": "python",
   "nbconvert_exporter": "python",
   "pygments_lexer": "ipython3",
   "version": "3.6.2"
  }
 },
 "nbformat": 4,
 "nbformat_minor": 2
}
